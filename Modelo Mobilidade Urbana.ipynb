{
 "cells": [
  {
   "cell_type": "code",
   "execution_count": 1,
   "id": "cf89e4d2",
   "metadata": {},
   "outputs": [],
   "source": [
    "import pandas as pd"
   ]
  },
  {
   "cell_type": "code",
   "execution_count": 2,
   "id": "81df5230",
   "metadata": {},
   "outputs": [],
   "source": [
    "instance = 'c101'\n",
    "v = 25\n",
    "c = 200\n",
    "n = 101\n",
    "depot = 0"
   ]
  },
  {
   "cell_type": "code",
   "execution_count": 3,
   "id": "162d3d0d",
   "metadata": {},
   "outputs": [],
   "source": [
    "dados = pd.read_csv(instance+\".txt\",index_col=0,sep=';').to_dict()"
   ]
  },
  {
   "cell_type": "code",
   "execution_count": 4,
   "id": "3940fbb0",
   "metadata": {},
   "outputs": [],
   "source": [
    "distancia = [[0 for _ in range(n)] for _ in range(n)]"
   ]
  },
  {
   "cell_type": "code",
   "execution_count": 5,
   "id": "8602a7df",
   "metadata": {},
   "outputs": [],
   "source": [
    "def dist(i,j):\n",
    "    x = (dados['x'][i]-dados['x'][j])**2\n",
    "    y = (dados['y'][i]-dados['y'][j])**2\n",
    "    \n",
    "    return (x+y)**(1/2)"
   ]
  },
  {
   "cell_type": "code",
   "execution_count": 6,
   "id": "67cd310a",
   "metadata": {},
   "outputs": [],
   "source": [
    "comeco_horizonte = dados['tempo_preparo'][depot]\n",
    "fim_horizonte = dados['tempo_entrega'][depot]"
   ]
  },
  {
   "cell_type": "code",
   "execution_count": 7,
   "id": "575cdbc6",
   "metadata": {},
   "outputs": [],
   "source": [
    "M = -1\n",
    "for i in range(n):\n",
    "    for j in range(n):\n",
    "        if i != j:\n",
    "            distancia[i][j]=round(dist(i,j)) \n",
    "            M = max(M,dados['tempo_entrega'][i]+distancia[i][j]-dados['tempo_preparo'][i])\n",
    "        else: \n",
    "            distancia[i][j]=float('inf')"
   ]
  },
  {
   "cell_type": "code",
   "execution_count": 23,
   "id": "d0103952",
   "metadata": {},
   "outputs": [],
   "source": [
    "from docplex.mp.model import Model\n",
    "from docplex.mp.linear import LinearExpr"
   ]
  },
  {
   "cell_type": "code",
   "execution_count": 24,
   "id": "848e8d39",
   "metadata": {},
   "outputs": [],
   "source": [
    "model = Model(\"vrptw\")"
   ]
  },
  {
   "cell_type": "markdown",
   "id": "eef62f4b",
   "metadata": {},
   "source": [
    "### Variáveis"
   ]
  },
  {
   "cell_type": "code",
   "execution_count": 25,
   "id": "a270009b",
   "metadata": {},
   "outputs": [],
   "source": [
    "travels = model.binary_var_cube(v,n,n,'travel')#matriz tridimensional k*v²"
   ]
  },
  {
   "cell_type": "code",
   "execution_count": 26,
   "id": "65ecc978",
   "metadata": {},
   "outputs": [],
   "source": [
    "service = {(k,i): model.continuous_var(\n",
    "    lb=dados['tempo_preparo'][i],\n",
    "        ub=dados['tempo_entrega'][i],name=f'service_start_{k}_{i}') \n",
    "           for k in range(v) for i in range(n)}#momento em que o serviço começa no cliente i"
   ]
  },
  {
   "cell_type": "markdown",
   "id": "c76c2ed6",
   "metadata": {},
   "source": [
    "### Função Objetiva"
   ]
  },
  {
   "cell_type": "code",
   "execution_count": 27,
   "id": "877687c1",
   "metadata": {},
   "outputs": [],
   "source": [
    "model.minimize(model.sum(travels[k,i,j]*distancia[i][j] for i in range(n) for j in range(n) for k in range(v)))"
   ]
  },
  {
   "cell_type": "markdown",
   "id": "68d60652",
   "metadata": {},
   "source": [
    "### Restrições"
   ]
  },
  {
   "cell_type": "code",
   "execution_count": 28,
   "id": "63b54d0c",
   "metadata": {},
   "outputs": [],
   "source": [
    "#Visitar o cliente i é obrigatório\n",
    "for i in range(1,n):\n",
    "    model.add_constraint(\n",
    "     model.sum(travels[k,i,j]\n",
    "       for k in range(v)\n",
    "           for j in range(n))==1,\n",
    "            'Visit_Client_'+str(i))"
   ]
  },
  {
   "cell_type": "code",
   "execution_count": 29,
   "id": "47982aba",
   "metadata": {},
   "outputs": [],
   "source": [
    "#Respeitar Capacidade\n",
    "for k in range(v):\n",
    "    model.add_constraint(\n",
    "        model.sum(travels[k,i,j]*dados['demanda'][i]\n",
    "            for i in range(n)\n",
    "                for j in range(n)) <= c,\n",
    "                    'Capacity_Vehicle_'+str(k))"
   ]
  },
  {
   "cell_type": "code",
   "execution_count": 30,
   "id": "d3a0b8dc",
   "metadata": {},
   "outputs": [],
   "source": [
    "#Saída a Partir do Depósito\n",
    "for k in range(v):\n",
    "    model.add_constraint(\n",
    "        model.sum(travels[k,0,j]\n",
    "            for j in range(n)) == 1,\n",
    "                'Exit_Depot_Vehicle_'+str(k))"
   ]
  },
  {
   "cell_type": "code",
   "execution_count": 31,
   "id": "ba19578e",
   "metadata": {},
   "outputs": [],
   "source": [
    "#Conservação de Fluxo\n",
    "for k in range(v):\n",
    "    for i in range(n):\n",
    "        model.add_constraint(\n",
    "            model.sum(travels[k,i,j]-travels[k,j,i]\n",
    "                    for j in range(i+1,n)) == 0,\n",
    "                        f'Flux_Conservation_Vehicle_{k}_Node_{i}')"
   ]
  },
  {
   "cell_type": "code",
   "execution_count": 32,
   "id": "0b77f107",
   "metadata": {},
   "outputs": [],
   "source": [
    "#Tempo de Saida\n",
    "for k in range(v):\n",
    "    for i in range(n):\n",
    "        for j in range(i+1,n):\n",
    "            model.add_constraint(service[k,i]+distancia[i][j]-M*(1-travels[k,i,j]) <= service[k,j],\n",
    "                                f'Exit_Time_{k}_{i}_{j}')"
   ]
  },
  {
   "cell_type": "code",
   "execution_count": 33,
   "id": "9b4fc86b",
   "metadata": {},
   "outputs": [],
   "source": [
    "#Forbidden Arcs\n",
    "model.add_constraint(model.sum(travels[k,i,i] for k in range(v) for i in range(n))==0);"
   ]
  },
  {
   "cell_type": "code",
   "execution_count": null,
   "id": "a700d3db",
   "metadata": {},
   "outputs": [
    {
     "name": "stdout",
     "output_type": "stream",
     "text": [
      "Version identifier: 22.1.0.0 | 2022-03-09 | 1a383f8ce\n",
      "CPXPARAM_Read_DataCheck                          1\n",
      "Tried aggregator 2 times.\n",
      "MIP Presolve eliminated 120275 rows and 122239 columns.\n",
      "MIP Presolve modified 178475 coefficients.\n",
      "Aggregator did 700 substitutions.\n",
      "Reduced MIP has 7951 rows, 134611 columns, and 352268 nonzeros.\n",
      "Reduced MIP has 133801 binaries, 0 generals, 0 SOSs, and 0 indicators.\n",
      "Presolve time = 0.75 sec. (1017.24 ticks)\n",
      "Tried aggregator 2 times.\n",
      "Detecting symmetries...\n",
      "MIP Presolve eliminated 18 rows and 323 columns.\n",
      "MIP Presolve added 120 rows and 0 columns.\n",
      "MIP Presolve modified 3611 coefficients.\n",
      "Aggregator did 31 substitutions.\n",
      "Reduced MIP has 8022 rows, 134257 columns, and 351508 nonzeros.\n",
      "Reduced MIP has 133453 binaries, 16 generals, 0 SOSs, and 0 indicators.\n",
      "Presolve time = 0.48 sec. (573.21 ticks)\n",
      "Probing time = 0.29 sec. (55.29 ticks)\n",
      "Clique table members: 219295.\n",
      "MIP emphasis: balance optimality and feasibility.\n",
      "MIP search method: dynamic search.\n",
      "Parallel mode: deterministic, using up to 8 threads.\n",
      "Root relaxation solution time = 0.51 sec. (334.68 ticks)\n",
      "\n",
      "        Nodes                                         Cuts/\n",
      "   Node  Left     Objective  IInf  Best Integer    Best Bound    ItCnt     Gap\n",
      "\n",
      "      0     0      928.5000    55                    928.5000     1411         \n",
      "      0     0      940.0000    13                     Cuts: 8     1563         \n",
      "      0     0      940.0000    19                     Cuts: 4     1567         \n",
      "      0     0      941.0000    13                  Cliques: 1     1569         \n",
      "      0     0      941.0000    16                     Cuts: 3     1570         \n",
      "Detecting symmetries...\n",
      "      0     2      941.0000    15                    941.0000     1570         \n",
      "Elapsed time = 18.79 sec. (10211.70 ticks, tree = 0.02 MB, solutions = 0)\n",
      "     19    14      942.5000    13                    941.0000     1675         \n",
      "     70    59      945.0000    17                    941.0000     2094         \n",
      "    116    98      945.0000    13                    941.0000     2593         \n",
      "    159   143      946.0000    11                    941.0000     3204         \n",
      "    223   193      952.0000    15                    941.5000     3829         \n",
      "    280   264      943.0000    15                    941.5000     4817         \n",
      "    338   286      950.0000    11                    941.5000     4906         \n",
      "    396   363      953.0000    11                    941.5000     6005         \n",
      "    441   367      953.0000    11                    941.5000     6013         \n",
      "    645   590      949.0000    13                    941.5000     8168         \n",
      "Elapsed time = 31.96 sec. (13353.10 ticks, tree = 48.98 MB, solutions = 0)\n",
      "    846   741      949.5000    15                    941.5000     9803         \n",
      "   1120  1020      957.0000    11                    941.5000    13705         \n",
      "   1302  1221      957.0000    11                    941.5000    16978         \n",
      "   1504  1395      943.0000    19                    941.5000    19528         \n",
      "   1620  1557      974.0000    11                    941.5000    23524         \n",
      "\n",
      "Performing restart 1\n",
      "\n",
      "Repeating presolve.\n",
      "Tried aggregator 1 time.\n",
      "MIP Presolve eliminated 0 rows and 18 columns.\n",
      "MIP Presolve modified 231 coefficients.\n",
      "Reduced MIP has 8022 rows, 134239 columns, and 351452 nonzeros.\n",
      "Reduced MIP has 133435 binaries, 18 generals, 0 SOSs, and 0 indicators.\n",
      "Presolve time = 0.24 sec. (275.50 ticks)\n",
      "Tried aggregator 1 time.\n",
      "Reduced MIP has 8022 rows, 134239 columns, and 351452 nonzeros.\n",
      "Reduced MIP has 133435 binaries, 18 generals, 0 SOSs, and 0 indicators.\n",
      "Presolve time = 0.22 sec. (253.59 ticks)\n",
      "Represolve time = 3.89 sec. (1085.44 ticks)\n",
      "   1621     0      975.0000     8                     Cuts: 5    27253         \n",
      "   1621     0      976.0000     3                     Cuts: 2    27300         \n",
      "   1621     0      976.0000     4                     Cuts: 2    27301         \n",
      "   1621     0      976.0000     4                 ZeroHalf: 1    27302         \n",
      "   1621     0      976.0000     4                 ZeroHalf: 1    27350         \n",
      "   1621     0      976.0000     5                 ZeroHalf: 1    27352         \n",
      "   1621     2      976.0000     5                    976.0000    27352         \n",
      "   1671    48      977.0000     6                    976.0000    28214         \n",
      "   1771   136      977.0000     6                    976.0000    28354         \n",
      "   1870   221      980.5000     4                    976.0000    28506         \n",
      "   1964   296      981.0000     8                    976.0000    28876         \n",
      "Elapsed time = 96.04 sec. (40024.23 ticks, tree = 19.32 MB, solutions = 0)\n",
      "   2067   393      981.0000    10                    976.0000    29049         \n",
      "   2150   493      978.5000    14                    976.0000    30368         \n",
      "   2254   581      981.0000     8                    976.0000    31948         \n",
      "   2352   654      978.5000    10                    976.0000    33206         \n",
      "   2468   805      979.0000     6                    976.0000    36817         \n",
      "   2572   902      984.5000    10                    976.0000    38165         \n",
      "   2654   986      984.5000    12                    976.0000    40456         \n",
      "   2710  1043      981.0000     8                    976.0000    42086         \n",
      "   2800  1096      981.0000     8                    976.0000    42396         \n",
      "   2884  1155      980.5000     4                    976.0000    43648         \n",
      "Elapsed time = 144.74 sec. (49693.15 ticks, tree = 108.83 MB, solutions = 0)\n",
      "   3001  1256      980.5000     8                    976.0000    44607         \n",
      "   3117  1453      985.0000    10                    976.0000    48180         \n",
      "   3250  1506      982.5000    10                    976.0000    49112         \n",
      "   3416  1648      982.5000     8                    976.0000    51475         \n",
      "   3581  1776      986.0000     6                    976.0000    52737         \n",
      "   3750  1951      982.5000     4                    976.0000    55106         \n",
      "   3924  2129      986.5000    16                    976.0000    57289         \n",
      "   4099  2300      986.5000    10                    976.0000    59442         \n",
      "   4257  2448      986.5000     8                    976.0000    61063         \n",
      "   4405  2614      983.5000    16                    976.0000    63095         \n",
      "Elapsed time = 191.51 sec. (59301.02 ticks, tree = 267.89 MB, solutions = 0)\n",
      "   4673  2927      983.5000     6                    976.0000    65910         \n",
      "   4828  3118      983.5000     6                    976.0000    66486         \n",
      "   4941  3230      984.0000     6                    976.0000    67084         \n",
      "   5077  3288      984.0000    10                    976.0000    67244         \n",
      "   5201  3427      984.0000     6                    976.0000    67727         \n",
      "   5325  3555      988.5000     8                    976.0000    68270         \n",
      "   5479  3637      982.5000     6                    976.0000    69033         \n",
      "   5601  3893      987.0000    12                    976.0000    70935         \n",
      "   5737  4047      988.5000    10                    976.0000    72166         \n",
      "   5867  4117      983.0000     6                    976.0000    72699         \n",
      "Elapsed time = 239.40 sec. (68918.70 ticks, tree = 435.94 MB, solutions = 0)\n",
      "   5982  4274      983.0000    16                    976.0000    74658         \n",
      "   6124  4376      989.0000     8                    976.0000    75314         \n",
      "   6264  4495      984.5000    14                    976.0000    76560         \n",
      "   6432  4725      989.5000     6                    976.0000    78310         \n",
      "   6584  4704      987.0000     4                    976.0000    78439         \n",
      "   6717  4812      988.5000     6                    976.0000    79351         \n",
      "   6867  5015      983.5000     6                    976.0000    80985         \n",
      "   7011  5122      984.5000     6                    976.0000    82507         \n",
      "   7180  5406      983.5000     4                    976.0000    84507         \n",
      "   7292  5475      991.0000    10                    976.0000    84611         \n",
      "Elapsed time = 290.83 sec. (78520.35 ticks, tree = 585.61 MB, solutions = 0)\n",
      "   7394  5589      984.5000     4                    976.0000    86786         \n"
     ]
    },
    {
     "name": "stdout",
     "output_type": "stream",
     "text": [
      "\n",
      "Performing restart 2\n",
      "\n",
      "Repeating presolve.\n",
      "Tried aggregator 1 time.\n",
      "Reduced MIP has 8022 rows, 134239 columns, and 355172 nonzeros.\n",
      "Reduced MIP has 133435 binaries, 18 generals, 0 SOSs, and 0 indicators.\n",
      "Presolve time = 0.16 sec. (198.07 ticks)\n",
      "Tried aggregator 1 time.\n",
      "Reduced MIP has 8022 rows, 134239 columns, and 355172 nonzeros.\n",
      "Reduced MIP has 133435 binaries, 18 generals, 0 SOSs, and 0 indicators.\n",
      "Presolve time = 0.21 sec. (258.51 ticks)\n",
      "Represolve time = 3.78 sec. (1062.22 ticks)\n"
     ]
    }
   ],
   "source": [
    "import time\n",
    "start = time.time() #Tempo de ínicio\n",
    "subcicle = True     #Condição de parada\n",
    "#Assumindo que existe subciclos, nós...\n",
    "while subcicle == True:\n",
    "\n",
    "    #Rota percorrida por cada veículo\n",
    "    routes = {x:{} for x in range(v)}    \n",
    "\n",
    "    #Solução VRP - Dicionário Desordenado\n",
    "    _Solution = model.solve(log_output=True).as_dict()\n",
    "    #saida veículo\n",
    "    #    |   |\n",
    "    #    v   v\n",
    "    #Arc_i_j_k: True/False <-Valores Possíveis\n",
    "    #      ^\n",
    "    #      |\n",
    "    #   chegada\n",
    "    #\n",
    "    #Arc_i_j_k = Chave\n",
    "\n",
    "    for i in _Solution:\n",
    "        #\n",
    "        #\n",
    "        #\"Arc_i_j_k\"\n",
    "        #     |   \n",
    "        #     v                      0   1   2\n",
    "        aux = i.split(\"_\")[1:] #<- [\"i\",\"j\",\"k\"]\n",
    "        #        ^\n",
    "        #        |\n",
    "        #[\"Arc\",\"i\",\"j\",\"k\"]\n",
    "        #\n",
    "        #         veiculo=k    saida=i      chegada=j\n",
    "        #             |            |            |\n",
    "        #             v            v            v\n",
    "        routes[int(aux[2])][int(aux[0])]=int(aux[1])\n",
    "        # ^\n",
    "        # |_ Rotas agrupadas por veículo\n",
    "\n",
    "    print(routes)\n",
    "    count = 0 #Contador para as eliminações de subciclo\n",
    "    summ = 0 #Condição de parada\n",
    "\n",
    "    #O trecho de código abaixo deve remover o caminho\n",
    "    #principal para futuramente verificarmos se existe\n",
    "    #algum subciclo na rota do veículo 'k'\n",
    "    for k in veiculos.index:\n",
    "\n",
    "        #Primeiramente, verificamos se o veículo 'k'\n",
    "        #percorreu, ou não, pelo menos um arco\n",
    "        if len(routes[k]) > 0:\n",
    "\n",
    "            #Se ele percorreu pelo menos um arco:\n",
    "            #Começamos verificando qual o ponto de saida\n",
    "            #do veículo 'k' e atribuímos esse nodo para\n",
    "            #o ponto de partida do nosso loop\n",
    "\n",
    "            inicial = veiculos.loc[k][\"Inicial\"]\n",
    "            #  ^\n",
    "            #  |\n",
    "            #Saída de 'k'\n",
    "            #\n",
    "            #Chegada de 'k'\n",
    "            #saindo do ponto\n",
    "            #inicial\n",
    "            #  |\n",
    "            #  v\n",
    "            actual_node = routes[k].pop(inicial)\n",
    "\n",
    "            #inicial->actual_node = primeiro arco de todas as rotas\n",
    "\n",
    "            #Iremos percorrer a rota até que alcançemos a vítima\n",
    "            while actual_node not in vitimas[\"Ponto\"].values:\n",
    "                # actual_node                actual_node\n",
    "                #vira chegada do        inicia como saída do\n",
    "                #  arco                        arco\n",
    "                #   |                            |\n",
    "                #   v                            v\n",
    "                actual_node = routes[k].pop(actual_node)\n",
    "\n",
    "                #it0: actual_node-> nodo 'j'\n",
    "                #               ^\n",
    "                #               |\n",
    "                #it1:     actual_node -> nodo 'k'\n",
    "                #                             ^\n",
    "                #                             |\n",
    "                #it2:                     actual_node -> nodo 'l' ...\n",
    "\n",
    "\n",
    "        #Se sobrou algum subciclo\n",
    "        #depois da remoção do caminho\n",
    "        #principal então \n",
    "        #len(routes[k]) > 0\n",
    "        summ += len(routes[k])\n",
    "\n",
    "\n",
    "        #Se sobrou algum arco dentro\n",
    "        #da rota, então deve ser algum\n",
    "        #subciclo que devemos retirar\n",
    "        if len(routes[k]) >0:\n",
    "\n",
    "            #Enquanto ainda existir algum arco\n",
    "            #dentro da rota do veículo 'k'\n",
    "            #ele faz parte de um subciclo\n",
    "            #que deve ser retirado, portanto\n",
    "            #iteramos até removermos todos os\n",
    "            #subciclos\n",
    "            while(len(routes[k])>0):\n",
    "                print(routes[k])\n",
    "                cut = LinearExpr(vrp) #Expressão Linear do Subciclo atual\n",
    "\n",
    "                first_node = list(routes[k].keys())[0]\n",
    "                #  ^\n",
    "                #  |\n",
    "                #saída do primeiro arco\n",
    "                #do subciclo atual\n",
    "                #\n",
    "                #chegada do primeiro\n",
    "                #arco do subciclo atual\n",
    "                #  |\n",
    "                #  v\n",
    "                actual_node = routes[k].pop(first_node)\n",
    "\n",
    "                #Adicionamos o arco inicial à restrição\n",
    "                cut += tavels[k,int(first_node),int(actual_node)]\n",
    "\n",
    "                #Tamanho do subciclo -1\n",
    "                size = 0\n",
    "                while(actual_node != first_node):\n",
    "                    next_node = routes[k].pop(actual_node)                 #Percorre o subciclo e o adiciona ao#\n",
    "                    cut += tavels[k,int(actual_node),int(next_node)]#conjunto de subciclos proíbidos.#\n",
    "                    actual_node = next_node\n",
    "                    size+=1\n",
    "                count+=1\n",
    "                vrp.add_constraint(cut<=size,\"SubCycleCut_\"+str(count))\n",
    "\n",
    "    if summ == 0:\n",
    "        subcicle = False\n",
    "print(time.time()-start)"
   ]
  },
  {
   "cell_type": "code",
   "execution_count": null,
   "id": "2e88e9de",
   "metadata": {},
   "outputs": [],
   "source": [
    "print(model.solve())"
   ]
  },
  {
   "cell_type": "code",
   "execution_count": null,
   "id": "fda7b943",
   "metadata": {},
   "outputs": [],
   "source": [
    "i"
   ]
  },
  {
   "cell_type": "code",
   "execution_count": null,
   "id": "922c39ce",
   "metadata": {},
   "outputs": [],
   "source": []
  }
 ],
 "metadata": {
  "kernelspec": {
   "display_name": "Python 3 (ipykernel)",
   "language": "python",
   "name": "python3"
  },
  "language_info": {
   "codemirror_mode": {
    "name": "ipython",
    "version": 3
   },
   "file_extension": ".py",
   "mimetype": "text/x-python",
   "name": "python",
   "nbconvert_exporter": "python",
   "pygments_lexer": "ipython3",
   "version": "3.10.6"
  }
 },
 "nbformat": 4,
 "nbformat_minor": 5
}
